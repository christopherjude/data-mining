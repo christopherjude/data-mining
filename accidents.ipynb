{
 "cells": [
  {
   "cell_type": "code",
   "execution_count": 52,
   "metadata": {
    "id": "dRDkeT1vvAzs"
   },
   "outputs": [],
   "source": [
    "import pandas as pd\n",
    "from helper import get_my_dataset\n"
   ]
  },
  {
   "cell_type": "code",
   "execution_count": null,
   "metadata": {},
   "outputs": [],
   "source": [
    "\"\"\"\n",
    "Get the data_set filtered for my borough\n",
    "\"\"\"\n",
    "main_df = get_my_dataset()"
   ]
  },
  {
   "cell_type": "code",
   "execution_count": 54,
   "metadata": {},
   "outputs": [
    {
     "data": {
      "text/plain": [
       "(2070, 32)"
      ]
     },
     "execution_count": 54,
     "metadata": {},
     "output_type": "execute_result"
    }
   ],
   "source": [
    "\"\"\"\n",
    "Checking the rows and columns of the dataset\n",
    "\"\"\"\n",
    "main_df.shape"
   ]
  },
  {
   "cell_type": "code",
   "execution_count": 56,
   "metadata": {},
   "outputs": [
    {
     "data": {
      "text/plain": [
       "Accident_Index                                  object\n",
       "Location_Easting_OSGR                            int64\n",
       "Location_Northing_OSGR                           int64\n",
       "Longitude                                      float64\n",
       "Latitude                                       float64\n",
       "Accident_Severity                               object\n",
       "Number_of_Vehicles                               int64\n",
       "Number_of_Casualties                             int64\n",
       "Date                                            object\n",
       "Day_of_Week                                     object\n",
       "Time                                            object\n",
       "1st_Road_Class                                  object\n",
       "1st_Road_Number                                 object\n",
       "Road_Type                                       object\n",
       "Speed_limit                                     object\n",
       "Junction_Detail                                 object\n",
       "Junction_Control                                object\n",
       "2nd_Road_Class                                  object\n",
       "2nd_Road_Number                                 object\n",
       "Pedestrian_Crossing-Human_Control               object\n",
       "Pedestrian_Crossing-Physical_Facilities         object\n",
       "Light_Conditions                                object\n",
       "Weather_Conditions                              object\n",
       "Road_Surface_Conditions                         object\n",
       "Special_Conditions_at_Site                      object\n",
       "Carriageway_Hazards                             object\n",
       "Did_Police_Officer_Attend_Scene_of_Accident     object\n",
       "LSOA_of_Accident_Location                       object\n",
       "dtype: object"
      ]
     },
     "execution_count": 56,
     "metadata": {},
     "output_type": "execute_result"
    }
   ],
   "source": [
    "\"\"\"\n",
    "Function to change data types according to manually updated data-types.csv.\n",
    "\"\"\"\n",
    "def process_dataframe(df, csv_path):\n",
    "    # Read the CSV file\n",
    "    instructions = pd.read_csv(csv_path)\n",
    "    \n",
    "    # Iterate over the instructions\n",
    "    for index, row in instructions.iterrows():\n",
    "        col_name = row.iloc[0]\n",
    "        new_type = row.iloc[1]\n",
    "        action = row.iloc[2]\n",
    "        \n",
    "        # Drop the column if action is \"Drop\"\n",
    "        if action == \"Drop\":\n",
    "            df = df.drop(columns=[col_name])\n",
    "        else:\n",
    "            # Change the data type of the column\n",
    "            if new_type == \"numerical\":\n",
    "                df[col_name] = pd.to_numeric(df[col_name], errors='coerce')\n",
    "            elif new_type == \"categorical\":\n",
    "                df[col_name] = df[col_name].astype('str')\n",
    "    \n",
    "    return df\n",
    "\n",
    "# Example usage\n",
    "processed_df = process_dataframe(main_df, 'data_types.csv')\n",
    "processed_df.dtypes"
   ]
  },
  {
   "cell_type": "code",
   "execution_count": 73,
   "metadata": {},
   "outputs": [
    {
     "name": "stdout",
     "output_type": "stream",
     "text": [
      "Accident_Index                                   0\n",
      "Location_Easting_OSGR                            0\n",
      "Location_Northing_OSGR                           0\n",
      "Longitude                                        0\n",
      "Latitude                                         0\n",
      "Accident_Severity                                0\n",
      "Number_of_Vehicles                               0\n",
      "Number_of_Casualties                             0\n",
      "Date                                             0\n",
      "Day_of_Week                                      0\n",
      "Time                                             0\n",
      "1st_Road_Class                                   0\n",
      "1st_Road_Number                                  0\n",
      "Road_Type                                        0\n",
      "Speed_limit                                      0\n",
      "Junction_Detail                                  0\n",
      "Junction_Control                               570\n",
      "2nd_Road_Class                                 570\n",
      "2nd_Road_Number                                  0\n",
      "Pedestrian_Crossing-Human_Control                0\n",
      "Pedestrian_Crossing-Physical_Facilities          0\n",
      "Light_Conditions                                 0\n",
      "Weather_Conditions                               0\n",
      "Road_Surface_Conditions                          0\n",
      "Special_Conditions_at_Site                       0\n",
      "Carriageway_Hazards                              0\n",
      "Did_Police_Officer_Attend_Scene_of_Accident      0\n",
      "LSOA_of_Accident_Location                        4\n",
      "dtype: int64\n"
     ]
    }
   ],
   "source": [
    "\"\"\" \n",
    "Checking missing values\n",
    "\"\"\"\n",
    "nan_mask = processed_df.isnull()\n",
    "nan_mask_2 = processed_df.isna()\n",
    "nan_mask_3 = (processed_df == 'Nan')\n",
    "nan_mask_4 = (processed_df == 'nan')\n",
    "nan_mask_5 = (processed_df == pd.NA)\n",
    "minus_one_mask = (processed_df == '-1')\n",
    "empty_string_mask = (processed_df == '')\n",
    "null_mask = (processed_df == 'NULL')\n",
    "null_mask_2 = (processed_df == None)\n",
    "combined_mask = minus_one_mask | nan_mask | nan_mask_2 | nan_mask_3 | nan_mask_4| \\\n",
    "                nan_mask_5 | empty_string_mask | null_mask | null_mask_2\n",
    "missing_values = combined_mask.sum()\n",
    "print(missing_values)\n"
   ]
  },
  {
   "cell_type": "code",
   "execution_count": 74,
   "metadata": {},
   "outputs": [
    {
     "data": {
      "text/plain": [
       "18505     E01002953\n",
       "18506     E01003002\n",
       "18514     E01002946\n",
       "18525     E01002981\n",
       "18543     E01002955\n",
       "            ...    \n",
       "139600    E01002948\n",
       "139601    E01002968\n",
       "139602    E01002969\n",
       "139603    E01002970\n",
       "139762    E01002953\n",
       "Name: LSOA_of_Accident_Location, Length: 2070, dtype: object"
      ]
     },
     "execution_count": 74,
     "metadata": {},
     "output_type": "execute_result"
    }
   ],
   "source": [
    "mode_value = processed_df['LSOA_of_Accident_Location'].mode()[0]\n",
    "processed_df['LSOA_of_Accident_Location'].fillna(mode_value)"
   ]
  },
  {
   "cell_type": "code",
   "execution_count": 75,
   "metadata": {},
   "outputs": [
    {
     "name": "stdout",
     "output_type": "stream",
     "text": [
      "Accident_Index                                   0\n",
      "Location_Easting_OSGR                            0\n",
      "Location_Northing_OSGR                           0\n",
      "Longitude                                        0\n",
      "Latitude                                         0\n",
      "Accident_Severity                                0\n",
      "Number_of_Vehicles                               0\n",
      "Number_of_Casualties                             0\n",
      "Date                                             0\n",
      "Day_of_Week                                      0\n",
      "Time                                             0\n",
      "1st_Road_Class                                   0\n",
      "1st_Road_Number                                  0\n",
      "Road_Type                                        0\n",
      "Speed_limit                                      0\n",
      "Junction_Detail                                  0\n",
      "Junction_Control                               570\n",
      "2nd_Road_Class                                 570\n",
      "2nd_Road_Number                                  0\n",
      "Pedestrian_Crossing-Human_Control                0\n",
      "Pedestrian_Crossing-Physical_Facilities          0\n",
      "Light_Conditions                                 0\n",
      "Weather_Conditions                               0\n",
      "Road_Surface_Conditions                          0\n",
      "Special_Conditions_at_Site                       0\n",
      "Carriageway_Hazards                              0\n",
      "Did_Police_Officer_Attend_Scene_of_Accident      0\n",
      "LSOA_of_Accident_Location                        4\n",
      "dtype: int64\n"
     ]
    }
   ],
   "source": [
    "\"\"\" \n",
    "Checking missing values\n",
    "\"\"\"\n",
    "nan_mask = processed_df.isnull()\n",
    "nan_mask_2 = processed_df.isna()\n",
    "nan_mask_3 = (processed_df == 'Nan')\n",
    "nan_mask_4 = (processed_df == 'nan')\n",
    "nan_mask_5 = (processed_df == pd.NA)\n",
    "minus_one_mask = (processed_df == '-1')\n",
    "empty_string_mask = (processed_df == '')\n",
    "null_mask = (processed_df == 'NULL')\n",
    "null_mask_2 = (processed_df == None)\n",
    "combined_mask = minus_one_mask | nan_mask | nan_mask_2 | nan_mask_3 | nan_mask_4| \\\n",
    "                nan_mask_5 | empty_string_mask | null_mask | null_mask_2\n",
    "missing_values = combined_mask.sum()\n",
    "print(missing_values)"
   ]
  }
 ],
 "metadata": {
  "colab": {
   "authorship_tag": "ABX9TyP6ahOWKVA2LPOnijCFzVxt",
   "mount_file_id": "1OtK8Xq9IF6k039YHPKJFY0MgR4Rlaf88",
   "provenance": []
  },
  "kernelspec": {
   "display_name": ".venv",
   "language": "python",
   "name": "python3"
  },
  "language_info": {
   "codemirror_mode": {
    "name": "ipython",
    "version": 3
   },
   "file_extension": ".py",
   "mimetype": "text/x-python",
   "name": "python",
   "nbconvert_exporter": "python",
   "pygments_lexer": "ipython3",
   "version": "3.10.11"
  }
 },
 "nbformat": 4,
 "nbformat_minor": 0
}
